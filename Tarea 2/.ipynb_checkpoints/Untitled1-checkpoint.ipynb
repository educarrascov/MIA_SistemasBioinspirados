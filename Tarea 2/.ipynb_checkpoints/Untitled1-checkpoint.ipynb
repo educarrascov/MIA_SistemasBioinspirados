{
 "cells": [
  {
   "cell_type": "code",
   "execution_count": 1,
   "id": "cf59df0b-3b7f-440a-8ff8-02a3a630969d",
   "metadata": {},
   "outputs": [
    {
     "name": "stdout",
     "output_type": "stream",
     "text": [
      "Collecting scikit-opt\n",
      "  Downloading scikit_opt-0.6.6-py3-none-any.whl (35 kB)\n",
      "Requirement already satisfied: scipy in /Library/Frameworks/Python.framework/Versions/3.9/lib/python3.9/site-packages (from scikit-opt) (1.8.1)\n",
      "Requirement already satisfied: numpy in /Library/Frameworks/Python.framework/Versions/3.9/lib/python3.9/site-packages (from scikit-opt) (1.21.2)\n",
      "Installing collected packages: scikit-opt\n",
      "Successfully installed scikit-opt-0.6.6\n",
      "Note: you may need to restart the kernel to use updated packages.\n"
     ]
    }
   ],
   "source": [
    "pip install scikit-opt"
   ]
  },
  {
   "cell_type": "code",
   "execution_count": 2,
   "id": "08b6dc5b-a3c8-4d35-a742-23ce33902b38",
   "metadata": {},
   "outputs": [],
   "source": [
    "# step1: define your own operator:\n",
    "def selection_tournament(algorithm, tourn_size):\n",
    "    FitV = algorithm.FitV\n",
    "    sel_index = []\n",
    "    for i in range(algorithm.size_pop):\n",
    "        aspirants_index = np.random.choice(range(algorithm.size_pop), size=tourn_size)\n",
    "        sel_index.append(max(aspirants_index, key=lambda i: FitV[i]))\n",
    "    algorithm.Chrom = algorithm.Chrom[sel_index, :]  # next generation\n",
    "    return algorithm.Chrom"
   ]
  },
  {
   "cell_type": "code",
   "execution_count": 3,
   "id": "0cf2f6e4-f41b-4b8a-92a2-1603d3e48420",
   "metadata": {},
   "outputs": [],
   "source": [
    "import numpy as np\n",
    "from sko.GA import GA, GA_TSP\n",
    "\n",
    "demo_func = lambda x: x[0] ** 2 + (x[1] - 0.05) ** 2 + (x[2] - 0.5) ** 2\n",
    "ga = GA(func=demo_func, n_dim=3, size_pop=100, max_iter=500, lb=[-1, -10, -5], ub=[2, 10, 2],\n",
    "        precision=[1e-7, 1e-7, 1])"
   ]
  },
  {
   "cell_type": "code",
   "execution_count": 4,
   "id": "e8382ba0-88c2-4c31-83fc-e5a47ff39771",
   "metadata": {},
   "outputs": [
    {
     "data": {
      "text/plain": [
       "<sko.GA.GA at 0x1046e46d0>"
      ]
     },
     "execution_count": 4,
     "metadata": {},
     "output_type": "execute_result"
    }
   ],
   "source": [
    "ga.register(operator_name='selection', operator=selection_tournament, tourn_size=3)"
   ]
  },
  {
   "cell_type": "code",
   "execution_count": 5,
   "id": "42c48dc8-3510-4b72-a851-68c518f9bfae",
   "metadata": {},
   "outputs": [
    {
     "data": {
      "text/plain": [
       "<sko.GA.GA at 0x1046e46d0>"
      ]
     },
     "execution_count": 5,
     "metadata": {},
     "output_type": "execute_result"
    }
   ],
   "source": [
    "from sko.operators import ranking, selection, crossover, mutation\n",
    "\n",
    "ga.register(operator_name='ranking', operator=ranking.ranking). \\\n",
    "    register(operator_name='crossover', operator=crossover.crossover_2point). \\\n",
    "    register(operator_name='mutation', operator=mutation.mutation)"
   ]
  },
  {
   "cell_type": "code",
   "execution_count": 6,
   "id": "880409b6-2db0-470c-80d8-ecb513d42431",
   "metadata": {},
   "outputs": [
    {
     "name": "stdout",
     "output_type": "stream",
     "text": [
      "best_x: [-2.98023233e-08  4.99999898e-02  1.00000000e+00] \n",
      " best_y: [0.25]\n"
     ]
    }
   ],
   "source": [
    "best_x, best_y = ga.run()\n",
    "print('best_x:', best_x, '\\n', 'best_y:', best_y)"
   ]
  },
  {
   "cell_type": "code",
   "execution_count": 7,
   "id": "dfbaa9e2-f2f5-425f-9dfe-b717bceaf55d",
   "metadata": {},
   "outputs": [
    {
     "name": "stdout",
     "output_type": "stream",
     "text": [
      "best_x: [-2.98023233e-08  4.99999898e-02  1.00000000e+00] \n",
      " best_y: [0.25]\n"
     ]
    }
   ],
   "source": [
    "class MyGA(GA):\n",
    "    def selection(self, tourn_size=3):\n",
    "        FitV = self.FitV\n",
    "        sel_index = []\n",
    "        for i in range(self.size_pop):\n",
    "            aspirants_index = np.random.choice(range(self.size_pop), size=tourn_size)\n",
    "            sel_index.append(max(aspirants_index, key=lambda i: FitV[i]))\n",
    "        self.Chrom = self.Chrom[sel_index, :]  # next generation\n",
    "        return self.Chrom\n",
    "\n",
    "    ranking = ranking.ranking\n",
    "\n",
    "\n",
    "demo_func = lambda x: x[0] ** 2 + (x[1] - 0.05) ** 2 + (x[2] - 0.5) ** 2\n",
    "my_ga = MyGA(func=demo_func, n_dim=3, size_pop=100, max_iter=500, lb=[-1, -10, -5], ub=[2, 10, 2],\n",
    "        precision=[1e-7, 1e-7, 1])\n",
    "best_x, best_y = my_ga.run()\n",
    "print('best_x:', best_x, '\\n', 'best_y:', best_y)"
   ]
  },
  {
   "cell_type": "code",
   "execution_count": 8,
   "id": "d74ed063-22c2-47e4-9b42-c736856a4de4",
   "metadata": {},
   "outputs": [
    {
     "data": {
      "text/plain": [
       "(array([-2.98023233e-08]), array([8.88178473e-16]))"
      ]
     },
     "execution_count": 8,
     "metadata": {},
     "output_type": "execute_result"
    }
   ],
   "source": [
    "from sko.GA import GA\n",
    "\n",
    "func = lambda x: x[0] ** 2\n",
    "ga = GA(func=func, n_dim=1)\n",
    "ga.run(10)\n",
    "ga.run(20)"
   ]
  },
  {
   "cell_type": "code",
   "execution_count": 9,
   "id": "01e61dc7-cfdf-47f7-bbd5-e9e178692fa1",
   "metadata": {},
   "outputs": [],
   "source": [
    "'''\n",
    "min f(x1, x2, x3) = x1^2 + x2^2 + x3^2\n",
    "s.t.\n",
    "    x1*x2 >= 1\n",
    "    x1*x2 <= 5\n",
    "    x2 + x3 = 1\n",
    "    0 <= x1, x2, x3 <= 5\n",
    "'''\n",
    "\n",
    "\n",
    "def obj_func(p):\n",
    "    x1, x2, x3 = p\n",
    "    return x1 ** 2 + x2 ** 2 + x3 ** 2\n",
    "\n",
    "\n",
    "constraint_eq = [\n",
    "    lambda x: 1 - x[1] - x[2]\n",
    "]\n",
    "\n",
    "constraint_ueq = [\n",
    "    lambda x: 1 - x[0] * x[1],\n",
    "    lambda x: x[0] * x[1] - 5\n",
    "]"
   ]
  },
  {
   "cell_type": "code",
   "execution_count": 10,
   "id": "5fa84995-fc13-4d18-8a8f-3997f8604f49",
   "metadata": {},
   "outputs": [
    {
     "name": "stdout",
     "output_type": "stream",
     "text": [
      "best_x: [1.00766243 0.99344614 0.00655385] \n",
      " best_y: [2.00236176]\n"
     ]
    }
   ],
   "source": [
    "from sko.DE import DE\n",
    "\n",
    "de = DE(func=obj_func, n_dim=3, size_pop=50, max_iter=800, lb=[0, 0, 0], ub=[5, 5, 5],\n",
    "        constraint_eq=constraint_eq, constraint_ueq=constraint_ueq)\n",
    "\n",
    "best_x, best_y = de.run()\n",
    "print('best_x:', best_x, '\\n', 'best_y:', best_y)"
   ]
  },
  {
   "cell_type": "code",
   "execution_count": 11,
   "id": "8d6c48df-057f-4c06-8618-2f2a724ba9d6",
   "metadata": {},
   "outputs": [],
   "source": [
    "import numpy as np\n",
    "\n",
    "\n",
    "def schaffer(p):\n",
    "    '''\n",
    "    This function has plenty of local minimum, with strong shocks\n",
    "    global minimum at (0,0) with value 0\n",
    "    '''\n",
    "    x1, x2 = p\n",
    "    x = np.square(x1) + np.square(x2)\n",
    "    return 0.5 + (np.sin(x) - 0.5) / np.square(1 + 0.001 * x)"
   ]
  },
  {
   "cell_type": "code",
   "execution_count": 12,
   "id": "d5b59d93-8d78-4dff-8385-64f8ceff69bb",
   "metadata": {},
   "outputs": [
    {
     "name": "stdout",
     "output_type": "stream",
     "text": [
      "best_x: [-2.98023233e-08 -2.98023233e-08] \n",
      " best_y: [1.77635684e-15]\n"
     ]
    }
   ],
   "source": [
    "from sko.GA import GA\n",
    "\n",
    "ga = GA(func=schaffer, n_dim=2, size_pop=50, max_iter=800, lb=[-1, -1], ub=[1, 1], precision=1e-7)\n",
    "best_x, best_y = ga.run()\n",
    "print('best_x:', best_x, '\\n', 'best_y:', best_y)"
   ]
  },
  {
   "cell_type": "code",
   "execution_count": 13,
   "id": "307ff224-75b5-49e6-8b3c-0e2852ed6e42",
   "metadata": {},
   "outputs": [
    {
     "data": {
      "image/png": "[encoded data removed]",
      "text/plain": [
       "<Figure size 432x288 with 2 Axes>"
      ]
     },
     "metadata": {
      "needs_background": "light"
     },
     "output_type": "display_data"
    }
   ],
   "source": [
    "import pandas as pd\n",
    "import matplotlib.pyplot as plt\n",
    "\n",
    "Y_history = pd.DataFrame(ga.all_history_Y)\n",
    "fig, ax = plt.subplots(2, 1)\n",
    "ax[0].plot(Y_history.index, Y_history.values, '.', color='red')\n",
    "Y_history.min(axis=1).cummin().plot(kind='line')\n",
    "plt.show()"
   ]
  },
  {
   "cell_type": "code",
   "execution_count": 14,
   "id": "f6c504b8-e37e-47e3-8a62-8fd9bcb7f6aa",
   "metadata": {},
   "outputs": [],
   "source": [
    "import numpy as np\n",
    "from scipy import spatial\n",
    "import matplotlib.pyplot as plt\n",
    "\n",
    "num_points = 50\n",
    "\n",
    "points_coordinate = np.random.rand(num_points, 2)  # generate coordinate of points\n",
    "distance_matrix = spatial.distance.cdist(points_coordinate, points_coordinate, metric='euclidean')\n",
    "\n",
    "\n",
    "def cal_total_distance(routine):\n",
    "    '''The objective function. input routine, return total distance.\n",
    "    cal_total_distance(np.arange(num_points))\n",
    "    '''\n",
    "    num_points, = routine.shape\n",
    "    return sum([distance_matrix[routine[i % num_points], routine[(i + 1) % num_points]] for i in range(num_points)])"
   ]
  },
  {
   "cell_type": "code",
   "execution_count": 15,
   "id": "1ab4febb-f225-400c-a6c9-75d5e24de369",
   "metadata": {},
   "outputs": [],
   "source": [
    "from sko.GA import GA_TSP\n",
    "\n",
    "ga_tsp = GA_TSP(func=cal_total_distance, n_dim=num_points, size_pop=50, max_iter=500, prob_mut=1)\n",
    "best_points, best_distance = ga_tsp.run()"
   ]
  },
  {
   "cell_type": "code",
   "execution_count": 16,
   "id": "0897c02e-4eef-46a1-8082-513837f92695",
   "metadata": {},
   "outputs": [
    {
     "data": {
      "image/png": "[encoded data removed]",
      "text/plain": [
       "<Figure size 432x288 with 2 Axes>"
      ]
     },
     "metadata": {
      "needs_background": "light"
     },
     "output_type": "display_data"
    }
   ],
   "source": [
    "fig, ax = plt.subplots(1, 2)\n",
    "best_points_ = np.concatenate([best_points, [best_points[0]]])\n",
    "best_points_coordinate = points_coordinate[best_points_, :]\n",
    "ax[0].plot(best_points_coordinate[:, 0], best_points_coordinate[:, 1], 'o-r')\n",
    "ax[1].plot(ga_tsp.generation_best_Y)\n",
    "plt.show()"
   ]
  },
  {
   "cell_type": "code",
   "execution_count": 17,
   "id": "62384a5f-8389-4283-8c34-04e72ae92147",
   "metadata": {},
   "outputs": [],
   "source": [
    "def demo_func(x):\n",
    "    x1, x2, x3 = x\n",
    "    return x1 ** 2 + (x2 - 0.05) ** 2 + x3 ** 2"
   ]
  },
  {
   "cell_type": "code",
   "execution_count": 18,
   "id": "f18980c0-214f-48fb-ab38-9a6293c57b76",
   "metadata": {},
   "outputs": [
    {
     "name": "stdout",
     "output_type": "stream",
     "text": [
      "best_x is  [0.         0.04999999 0.5       ] best_y is [0.25]\n"
     ]
    }
   ],
   "source": [
    "from sko.PSO import PSO\n",
    "\n",
    "pso = PSO(func=demo_func, dim=3, pop=40, max_iter=150, lb=[0, -1, 0.5], ub=[1, 1, 1], w=0.8, c1=0.5, c2=0.5)\n",
    "pso.run()\n",
    "print('best_x is ', pso.gbest_x, 'best_y is', pso.gbest_y)"
   ]
  },
  {
   "cell_type": "code",
   "execution_count": 19,
   "id": "98ecb444-009b-4e9f-b35d-02e2482efaf5",
   "metadata": {},
   "outputs": [
    {
     "data": {
      "image/png": "[encoded data removed]",
      "text/plain": [
       "<Figure size 432x288 with 1 Axes>"
      ]
     },
     "metadata": {
      "needs_background": "light"
     },
     "output_type": "display_data"
    }
   ],
   "source": [
    "import matplotlib.pyplot as plt\n",
    "\n",
    "plt.plot(pso.gbest_y_hist)\n",
    "plt.show()"
   ]
  },
  {
   "cell_type": "code",
   "execution_count": null,
   "id": "974fb650-e236-486c-97ef-5e9d80f42f50",
   "metadata": {},
   "outputs": [],
   "source": []
  }
 ],
 "metadata": {
  "kernelspec": {
   "display_name": "Python 3 (ipykernel)",
   "language": "python",
   "name": "python3"
  },
  "language_info": {
   "codemirror_mode": {
    "name": "ipython",
    "version": 3
   },
   "file_extension": ".py",
   "mimetype": "text/x-python",
   "name": "python",
   "nbconvert_exporter": "python",
   "pygments_lexer": "ipython3",
   "version": "3.9.6"
  }
 },
 "nbformat": 4,
 "nbformat_minor": 5
}
