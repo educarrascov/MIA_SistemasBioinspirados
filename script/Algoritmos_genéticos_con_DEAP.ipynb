{
 "cells": [
  {
   "cell_type": "markdown",
   "metadata": {
    "colab_type": "text",
    "id": "view-in-github"
   },
   "source": [
    "<a href=\"https://colab.research.google.com/github/educarrascov/educarrascov/blob/main/Algoritmos_gen%C3%A9ticos_con_DEAP.ipynb\" target=\"_parent\"><img src=\"https://colab.research.google.com/assets/colab-badge.svg\" alt=\"Open In Colab\"/></a>"
   ]
  },
  {
   "cell_type": "markdown",
   "metadata": {
    "id": "_eykzxpqXCcP"
   },
   "source": [
    "# Introduction\n",
    "The are a few python modules that are built specially for GA development. DEAP is one of them, in this notebook we have an introduction to the basics of this module, and we are going to use to solve a TSP."
   ]
  },
  {
   "cell_type": "markdown",
   "metadata": {
    "id": "hM159RXBXZ6b"
   },
   "source": [
    "# Installation and Imports\n",
    "Firts, we install the module, and import all necesary code."
   ]
  },
  {
   "cell_type": "code",
   "execution_count": 1,
   "metadata": {
    "colab": {
     "base_uri": "https://localhost:8080/",
     "height": 138
    },
    "id": "n5hOL-iwW8hP",
    "outputId": "acaa893a-c5d3-4dc8-e7c9-7d5c8eaeb685"
   },
   "outputs": [
    {
     "name": "stdout",
     "output_type": "stream",
     "text": [
      "Collecting deap\n",
      "  Downloading deap-1.3.1-cp39-cp39-macosx_10_14_x86_64.whl (109 kB)\n",
      "\u001b[K     |████████████████████████████████| 109 kB 5.6 MB/s eta 0:00:01\n",
      "\u001b[?25hRequirement already satisfied: numpy in /Users/educarrasco/opt/anaconda3/lib/python3.9/site-packages (from deap) (1.21.5)\n",
      "Installing collected packages: deap\n",
      "Successfully installed deap-1.3.1\n"
     ]
    }
   ],
   "source": [
    "!pip install deap\n",
    "import array\n",
    "import random\n",
    "import json\n",
    "\n",
    "import numpy\n",
    "\n",
    "from deap import algorithms\n",
    "from deap import base\n",
    "from deap import creator\n",
    "from deap import tools"
   ]
  },
  {
   "cell_type": "markdown",
   "metadata": {
    "id": "eRbQdvv6Xz-O"
   },
   "source": [
    "# Data Import\n",
    "We are going to use presolved instance of the TSP (17,24 and 120 nodes). These presolved instances will help to see how good the GA performed when compared to the optimal solution."
   ]
  },
  {
   "cell_type": "code",
   "execution_count": 2,
   "metadata": {
    "colab": {
     "base_uri": "https://localhost:8080/",
     "height": 118
    },
    "id": "GGOJ30kwZQo2",
    "outputId": "d2b7d980-325b-498d-b3d4-5e4c5e1ef67d"
   },
   "outputs": [
    {
     "name": "stdout",
     "output_type": "stream",
     "text": [
      "Cloning into 'TSP_Data'...\n",
      "remote: Enumerating objects: 5, done.\u001b[K\n",
      "remote: Counting objects: 100% (5/5), done.\u001b[K\n",
      "remote: Compressing objects: 100% (5/5), done.\u001b[K\n",
      "remote: Total 5 (delta 0), reused 0 (delta 0), pack-reused 0\u001b[K\n",
      "Receiving objects: 100% (5/5), 28.17 KiB | 4.70 MiB/s, done.\n"
     ]
    }
   ],
   "source": [
    "!git clone https://github.com/juan-carvajal/TSP_Data.git"
   ]
  },
  {
   "cell_type": "markdown",
   "metadata": {
    "id": "NpvLx_fBZcRP"
   },
   "source": [
    "# DEAP Genetic algoritms library\n",
    "DEAP comes with a lot of predefined operators and algorithms, these can be used to solve a variety of problems, and we can also create custom operators for different problems, but here the ones that are provided by the module will be enought."
   ]
  },
  {
   "cell_type": "code",
   "execution_count": 5,
   "metadata": {
    "colab": {
     "base_uri": "https://localhost:8080/",
     "height": 1000
    },
    "id": "Ez5Qb9EAZx7W",
    "outputId": "04cf0fe9-9ace-4fde-ee4f-20325cdcb823"
   },
   "outputs": [
    {
     "name": "stdout",
     "output_type": "stream",
     "text": [
      "gen\tnevals\tavg    \tstd    \tmin  \tmax  \n",
      "0  \t1000  \t52274.3\t2335.79\t45169\t58996\n",
      "1  \t794   \t49359.4\t2479.61\t41873\t58935\n",
      "2  \t773   \t47486.6\t2892.08\t41830\t56662\n",
      "3  \t785   \t45310.3\t3212.18\t40274\t58040\n",
      "4  \t752   \t42904.5\t2500.73\t39313\t56431\n",
      "5  \t743   \t43119.1\t3299.06\t38614\t55686\n",
      "6  \t748   \t42616.6\t3652.77\t37615\t55985\n",
      "7  \t748   \t41468.6\t3514.92\t36344\t55250\n",
      "8  \t737   \t39485.9\t2986.22\t35744\t52981\n",
      "9  \t762   \t37285.1\t1591.53\t34300\t44946\n",
      "10 \t760   \t36333.3\t1636.74\t33353\t45318\n",
      "11 \t747   \t35633.8\t1756.53\t32992\t44611\n",
      "12 \t786   \t35034.3\t1942.63\t32389\t44449\n",
      "13 \t743   \t33828.6\t1696.72\t31896\t42059\n",
      "14 \t745   \t33280.5\t1853.93\t31305\t44782\n",
      "15 \t779   \t32585.5\t1743.18\t30892\t42630\n",
      "16 \t779   \t32186.7\t1950.51\t30446\t41876\n",
      "17 \t759   \t31634.8\t1821.64\t30038\t40591\n",
      "18 \t766   \t31210.7\t1917.51\t29488\t41430\n",
      "19 \t774   \t30708.2\t1733.92\t29247\t40114\n",
      "20 \t745   \t30353.6\t1853.87\t29074\t40550\n",
      "21 \t757   \t30117.5\t1941.66\t28821\t39700\n",
      "22 \t761   \t29965.9\t1997.12\t28616\t40146\n",
      "23 \t736   \t29561  \t1814.51\t28532\t38919\n",
      "24 \t751   \t29414.3\t1954.96\t28517\t40029\n",
      "25 \t749   \t29487.4\t2127.42\t28124\t39765\n",
      "26 \t759   \t29462.6\t2178.1 \t28124\t40341\n",
      "27 \t786   \t29174.2\t2164.72\t27933\t39495\n",
      "28 \t785   \t29049.9\t2122.98\t27926\t40375\n",
      "29 \t754   \t28896.6\t2096.94\t27749\t39640\n",
      "30 \t745   \t28744.9\t1973.52\t27742\t40916\n",
      "31 \t745   \t28728.8\t2148.18\t27660\t44111\n",
      "32 \t748   \t28549.7\t2024.19\t27500\t37660\n",
      "33 \t751   \t28695.1\t2277.53\t27500\t39972\n",
      "34 \t726   \t28476  \t2152.14\t27446\t40601\n",
      "35 \t728   \t28341.4\t2047.96\t27446\t37351\n",
      "36 \t734   \t28366.2\t2237.98\t27446\t41015\n",
      "37 \t781   \t28330.5\t2089.82\t27446\t41498\n",
      "38 \t751   \t28352.1\t2109.28\t27446\t39132\n",
      "39 \t753   \t28468.7\t2223.52\t27446\t39285\n",
      "40 \t771   \t28424.7\t2131.77\t27287\t39000\n",
      "41 \t749   \t28322.2\t2024.51\t27265\t38335\n",
      "42 \t793   \t28338.8\t2052.46\t27265\t38193\n",
      "43 \t735   \t28120.9\t1947.75\t27120\t39420\n",
      "44 \t770   \t28190.5\t2169.93\t26986\t38137\n",
      "45 \t776   \t28198  \t2233   \t26986\t39156\n",
      "46 \t763   \t27948.2\t2115.23\t26986\t39109\n",
      "47 \t742   \t27921.7\t2213.87\t26673\t39683\n",
      "48 \t791   \t27946.6\t2230.28\t26673\t42402\n",
      "49 \t778   \t27736.8\t2115.64\t26435\t38150\n",
      "50 \t755   \t27483.1\t2097.82\t26435\t38907\n",
      "51 \t760   \t27371.7\t2126.35\t26352\t38807\n",
      "52 \t770   \t27384  \t2205.8 \t25743\t39061\n",
      "53 \t786   \t27403.1\t2390.08\t25655\t38851\n",
      "54 \t739   \t26685.5\t2242.24\t25655\t39025\n",
      "55 \t764   \t26514.3\t2099.98\t25655\t38149\n",
      "56 \t740   \t26571.4\t2174.59\t25655\t37721\n",
      "57 \t752   \t26689.9\t2260.63\t25655\t37050\n",
      "58 \t759   \t26641  \t2329.66\t25655\t38790\n",
      "59 \t757   \t26661  \t2226.13\t25655\t36814\n",
      "60 \t782   \t26527.6\t2088.79\t25655\t39243\n",
      "61 \t751   \t26582.2\t2169.4 \t25655\t39006\n",
      "62 \t747   \t26672.2\t2338.61\t25655\t37197\n",
      "63 \t761   \t26586  \t2210.73\t25655\t40019\n",
      "64 \t769   \t26625.1\t2217.92\t25655\t38463\n",
      "65 \t752   \t26701.7\t2365.55\t25610\t39624\n",
      "66 \t750   \t26543.5\t2084.58\t25610\t37503\n",
      "67 \t792   \t26547.5\t2130.01\t25564\t39557\n",
      "68 \t763   \t26692.9\t2357.45\t25436\t38549\n",
      "69 \t766   \t26532.6\t2174.09\t25436\t38373\n",
      "70 \t763   \t26465.1\t2294.44\t25436\t40111\n",
      "71 \t754   \t26441.4\t2307.25\t25436\t38928\n",
      "72 \t750   \t26327.6\t2150.32\t25436\t38368\n",
      "73 \t768   \t26451.2\t2305.49\t25436\t38335\n",
      "74 \t748   \t26425.8\t2226.04\t25436\t37341\n",
      "75 \t788   \t26400.7\t2165.73\t25436\t36226\n",
      "76 \t762   \t26441.2\t2224.5 \t25436\t39025\n",
      "77 \t739   \t26345.3\t2190.23\t25365\t37020\n",
      "78 \t758   \t26368.2\t2262.97\t25133\t37875\n",
      "79 \t740   \t26315.9\t2203   \t25062\t37289\n",
      "80 \t748   \t26128.1\t2196.65\t25062\t38441\n",
      "81 \t750   \t25987  \t2181.76\t25039\t38431\n",
      "82 \t760   \t25960.7\t2140.71\t25039\t36035\n",
      "83 \t771   \t25891.4\t2024.28\t24790\t36389\n",
      "84 \t786   \t26014.6\t2306.52\t24790\t38089\n",
      "85 \t761   \t25976.1\t2336.8 \t24790\t36736\n",
      "86 \t749   \t25869.3\t2382.39\t24790\t36673\n",
      "87 \t741   \t25876.8\t2395.94\t24790\t37844\n",
      "88 \t779   \t25781.8\t2217.87\t24790\t37822\n",
      "89 \t771   \t25780.1\t2279.48\t24790\t36229\n",
      "90 \t779   \t25823.9\t2322.75\t24790\t38231\n",
      "91 \t765   \t25818.2\t2352.71\t24737\t38156\n",
      "92 \t758   \t25754.3\t2285.09\t24737\t37296\n",
      "93 \t750   \t25773.1\t2417.28\t24737\t36771\n",
      "94 \t766   \t25763.4\t2302.83\t24472\t37973\n",
      "95 \t761   \t25692  \t2193.13\t24459\t36044\n",
      "96 \t769   \t25491.1\t2204.43\t24242\t37280\n",
      "97 \t750   \t25377  \t2312.32\t24020\t37924\n",
      "98 \t759   \t25380.4\t2470.31\t23922\t38460\n",
      "99 \t761   \t25164.5\t2357.57\t23728\t35976\n",
      "100\t753   \t24976.8\t2361.85\t23661\t37356\n",
      "101\t749   \t24859.2\t2348.31\t23661\t35551\n",
      "102\t755   \t24712.8\t2426.65\t23661\t38357\n",
      "103\t732   \t24592.9\t2239.13\t23629\t35848\n",
      "104\t787   \t24654.7\t2286.36\t23488\t35576\n",
      "105\t735   \t24708.9\t2453.12\t23488\t36801\n",
      "106\t750   \t24641.6\t2430.5 \t23488\t36523\n",
      "107\t767   \t24395.9\t2212.02\t23488\t37114\n",
      "108\t767   \t24575.4\t2412.43\t23488\t35939\n",
      "109\t763   \t24602.4\t2540.46\t23488\t38034\n",
      "110\t753   \t24521.1\t2320.8 \t23488\t36107\n",
      "111\t772   \t24527.4\t2414.87\t23488\t38125\n",
      "112\t728   \t24459.8\t2271.99\t23488\t34687\n",
      "113\t755   \t24602.1\t2483.02\t23488\t35404\n",
      "114\t748   \t24499.9\t2326.18\t23488\t38564\n",
      "115\t768   \t24741.1\t2630.26\t23488\t37162\n",
      "116\t740   \t24413.4\t2260.35\t23470\t37262\n",
      "117\t763   \t24620  \t2477.84\t23341\t37326\n",
      "118\t766   \t24511.5\t2450.53\t23341\t36414\n",
      "119\t733   \t24402.2\t2384.29\t23341\t35260\n",
      "120\t758   \t24388.1\t2384.1 \t23240\t40037\n",
      "121\t758   \t24361.3\t2467.07\t23240\t36614\n",
      "122\t771   \t24480.7\t2613.28\t23188\t37296\n",
      "123\t768   \t24202.1\t2376.68\t23188\t38150\n",
      "124\t770   \t24216.2\t2345.97\t23168\t36329\n",
      "125\t748   \t24179.8\t2428.02\t23168\t35746\n",
      "126\t748   \t24208.9\t2462.25\t22934\t39871\n",
      "127\t741   \t24196.2\t2367.1 \t22934\t36474\n",
      "128\t778   \t24106.4\t2403.01\t22934\t38911\n",
      "129\t756   \t23890.4\t2377.26\t22822\t38737\n",
      "130\t792   \t24201.2\t2674.7 \t22822\t35610\n",
      "131\t776   \t23978.9\t2489.9 \t22822\t37507\n",
      "132\t746   \t23922.2\t2511.28\t22822\t36647\n",
      "133\t747   \t23722.3\t2213.33\t22822\t37946\n",
      "134\t746   \t23885.3\t2389.22\t22822\t37054\n",
      "135\t750   \t23992.2\t2586.89\t22662\t38053\n",
      "136\t756   \t23942.1\t2535.28\t22662\t38300\n",
      "137\t732   \t23701.4\t2405.08\t22662\t37021\n",
      "138\t733   \t23820  \t2543.87\t22662\t38058\n",
      "139\t767   \t23695.6\t2373.99\t22662\t37245\n",
      "140\t750   \t23615.4\t2305.74\t22662\t35620\n",
      "141\t766   \t23636.3\t2331   \t22662\t35555\n",
      "142\t777   \t23718.6\t2393.76\t22662\t33900\n",
      "143\t747   \t23674  \t2264.66\t22662\t34463\n",
      "144\t758   \t23739.2\t2539.66\t22662\t39423\n",
      "145\t734   \t23749  \t2405.04\t22662\t36023\n",
      "146\t777   \t23822.6\t2555.5 \t22662\t35479\n",
      "147\t777   \t23651.1\t2415.7 \t22662\t36647\n",
      "148\t751   \t23787.2\t2614.4 \t22662\t35903\n",
      "149\t765   \t23913.2\t2688.16\t22662\t36825\n",
      "150\t763   \t23728.6\t2419.84\t22662\t39671\n",
      "151\t748   \t23698.8\t2397.31\t22662\t34143\n",
      "152\t778   \t23847.3\t2603.71\t22662\t35624\n",
      "153\t761   \t23772.7\t2516.17\t22662\t36797\n",
      "154\t781   \t23729.2\t2462.32\t22662\t35349\n",
      "155\t766   \t23641.5\t2368.61\t22662\t36494\n",
      "156\t766   \t23752.9\t2537.01\t22662\t36758\n",
      "157\t760   \t23704.2\t2417.85\t22662\t35998\n",
      "158\t773   \t23764.2\t2462.4 \t22662\t36270\n",
      "159\t785   \t23739.4\t2471.33\t22662\t34375\n",
      "160\t767   \t23827.9\t2581.27\t22662\t37346\n",
      "161\t749   \t23703.8\t2372.01\t22662\t35014\n",
      "162\t777   \t23776.1\t2480.24\t22662\t36385\n",
      "163\t755   \t23618.7\t2347.94\t22662\t38753\n",
      "164\t773   \t23830.8\t2543.9 \t22662\t35397\n",
      "165\t778   \t23776  \t2495.72\t22662\t38674\n",
      "166\t768   \t23721.8\t2440.8 \t22465\t34945\n",
      "167\t750   \t23700.1\t2422.48\t22435\t37418\n",
      "168\t735   \t23688  \t2521.04\t22435\t36549\n",
      "169\t785   \t23559  \t2501.83\t22410\t37362\n",
      "170\t795   \t23526.8\t2537.89\t22410\t34625\n",
      "171\t777   \t23658.4\t2617.55\t22410\t37086\n",
      "172\t780   \t23646.1\t2712.58\t22410\t37717\n",
      "173\t757   \t23488.7\t2480.29\t22410\t35649\n",
      "174\t739   \t23492.2\t2508.12\t22410\t35935\n",
      "175\t736   \t23489.9\t2513.91\t22410\t35392\n",
      "176\t768   \t23451.7\t2437.03\t22410\t36282\n",
      "177\t776   \t23661.1\t2648.23\t22383\t35289\n",
      "178\t749   \t23544.3\t2556.92\t22383\t34782\n",
      "179\t804   \t23486.6\t2531.7 \t22383\t36031\n",
      "180\t779   \t23529.6\t2565.57\t22383\t34587\n",
      "181\t759   \t23550  \t2700.16\t22383\t37081\n",
      "182\t774   \t23530.1\t2571.29\t22383\t36807\n",
      "183\t757   \t23463.5\t2484.56\t22383\t35733\n",
      "184\t754   \t23609.5\t2674.22\t22329\t35214\n",
      "185\t746   \t23369.5\t2468.27\t22329\t36729\n",
      "186\t714   \t23424.8\t2498.64\t22329\t36734\n",
      "187\t766   \t23568.4\t2621.66\t22329\t36538\n",
      "188\t797   \t23519.4\t2649.42\t22303\t35650\n",
      "189\t770   \t23434.7\t2491.15\t22303\t35932\n",
      "190\t750   \t23494.5\t2580.08\t22303\t35908\n",
      "191\t749   \t23542.6\t2655.51\t22303\t35161\n",
      "192\t781   \t23369.6\t2497.16\t22303\t37184\n",
      "193\t746   \t23268.5\t2330.19\t22303\t34401\n",
      "194\t754   \t23412.3\t2500.17\t22303\t36316\n",
      "195\t771   \t23412.5\t2507.27\t22120\t35241\n",
      "196\t764   \t23399.6\t2524.17\t21957\t37254\n",
      "197\t723   \t23395  \t2644.21\t21867\t36099\n",
      "198\t751   \t23125.9\t2629.7 \t21867\t39307\n",
      "199\t765   \t23019.4\t2628.97\t21845\t39426\n",
      "200\t749   \t23044.6\t2612.06\t21845\t35680\n",
      "[Individual('i', [15, 110, 59, 89, 53, 95, 0, 58, 75, 61, 98, 54, 25, 104, 13, 45, 90, 83, 109, 94, 63, 4, 20, 11, 96, 114, 22, 71, 17, 30, 93, 80, 77, 44, 12, 48, 52, 76, 87, 102, 73, 21, 85, 31, 32, 78, 117, 16, 19, 65, 28, 23, 60, 14, 91, 86, 27, 39, 3, 35, 9, 103, 34, 66, 82, 100, 111, 105, 113, 10, 1, 108, 2, 33, 46, 56, 101, 72, 62, 26, 118, 37, 97, 41, 115, 69, 7, 119, 43, 84, 18, 29, 5, 36, 88, 47, 70, 40, 67, 112, 74, 51, 42, 64, 106, 49, 50, 92, 38, 79, 81, 8, 6, 55, 68, 107, 57, 99, 24, 116])]\n",
      "(21845,)\n"
     ]
    }
   ],
   "source": [
    "with open(\"TSP_Data/gr120.json\", \"r\") as tsp_data:\n",
    "    tsp = json.load(tsp_data)\n",
    "\n",
    "distance_map = tsp[\"DistanceMatrix\"]\n",
    "\n",
    "IND_SIZE = tsp[\"TourSize\"]\n",
    "\n",
    "\n",
    "creator.create(\"FitnessMin\", base.Fitness, weights=(-1.0,))\n",
    "creator.create(\"Individual\", array.array, typecode='i', fitness=creator.FitnessMin)\n",
    "\n",
    "toolbox = base.Toolbox()\n",
    "\n",
    "toolbox.register(\"indices\", random.sample, range(IND_SIZE), IND_SIZE)\n",
    "\n",
    "toolbox.register(\"individual\", tools.initIterate, creator.Individual, toolbox.indices)\n",
    "toolbox.register(\"population\", tools.initRepeat, list, toolbox.individual)\n",
    "\n",
    "def evalTSP(individual):\n",
    "    distance = distance_map[individual[-1]][individual[0]]\n",
    "    for gene1, gene2 in zip(individual[0:-1], individual[1:]):\n",
    "        distance += distance_map[gene1][gene2]\n",
    "    return distance,\n",
    "\n",
    "toolbox.register(\"mate\", tools.cxPartialyMatched)\n",
    "toolbox.register(\"mutate\", tools.mutShuffleIndexes, indpb=0.05)\n",
    "toolbox.register(\"select\", tools.selTournament, tournsize=30)\n",
    "toolbox.register(\"evaluate\", evalTSP)\n",
    "\n",
    "def main():\n",
    "    random.seed(169)\n",
    "\n",
    "    pop = toolbox.population(n=1000)\n",
    "\n",
    "    hof = tools.HallOfFame(1)\n",
    "    stats = tools.Statistics(lambda ind: ind.fitness.values)\n",
    "    stats.register(\"avg\", numpy.mean)\n",
    "    stats.register(\"std\", numpy.std)\n",
    "    stats.register(\"min\", numpy.min)\n",
    "    stats.register(\"max\", numpy.max)\n",
    "    \n",
    "    algorithms.eaSimple(pop, toolbox, 0.7, 0.2, 200, stats=stats, \n",
    "                        halloffame=hof)\n",
    "    \n",
    "    return pop, stats, hof\n",
    "\n",
    "if __name__ == \"__main__\":\n",
    "    pop,stats,hof=main()\n",
    "    print(hof)\n",
    "    print(evalTSP(hof[0]))"
   ]
  },
  {
   "cell_type": "code",
   "execution_count": null,
   "metadata": {},
   "outputs": [],
   "source": []
  }
 ],
 "metadata": {
  "colab": {
   "include_colab_link": true,
   "name": "Algoritmos genéticos con DEAP.ipynb",
   "provenance": []
  },
  "kernelspec": {
   "display_name": "Python 3 (ipykernel)",
   "language": "python",
   "name": "python3"
  },
  "language_info": {
   "codemirror_mode": {
    "name": "ipython",
    "version": 3
   },
   "file_extension": ".py",
   "mimetype": "text/x-python",
   "name": "python",
   "nbconvert_exporter": "python",
   "pygments_lexer": "ipython3",
   "version": "3.9.12"
  },
  "widgets": {
   "application/vnd.jupyter.widget-state+json": {
    "state": {},
    "version_major": 2,
    "version_minor": 0
   }
  }
 },
 "nbformat": 4,
 "nbformat_minor": 4
}
